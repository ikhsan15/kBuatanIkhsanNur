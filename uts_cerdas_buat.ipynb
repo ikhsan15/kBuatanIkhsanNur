{
  "nbformat": 4,
  "nbformat_minor": 0,
  "metadata": {
    "colab": {
      "name": "uts_cerdas_buat.ipynb",
      "provenance": [],
      "collapsed_sections": []
    },
    "kernelspec": {
      "name": "python3",
      "display_name": "Python 3"
    }
  },
  "cells": [
    {
      "cell_type": "markdown",
      "metadata": {
        "id": "2p0-x1swEO2_"
      },
      "source": [
        "No. 1"
      ]
    },
    {
      "cell_type": "code",
      "metadata": {
        "colab": {
          "base_uri": "https://localhost:8080/"
        },
        "id": "uftENcEij0iB",
        "outputId": "76f44568-ee21-4ff6-cd63-d4d5d914a45c"
      },
      "source": [
        "import statistics\n",
        "from fractions import Fraction as F\n",
        "from decimal import Decimal as D\n",
        "\n",
        "age = [\n",
        "        19,19,19,20,20,21,21,21,21,21,\n",
        "        21,22,22,22,22,22,23,23,23,24,\n",
        "        24,24,25,26,26,26,28,28,29,31,\n",
        "        31,31,32,34,34,37,40,43,50,52,\n",
        "        57,19,20,21,22,22,22,22,23,24,\n",
        "        24,24,25,25,27,29,30,30,31,32,\n",
        "        39\n",
        "]\n",
        " \n",
        "print(\"mean   : \" , statistics.mean(age))\n",
        "print(\"median : \" , statistics.median(age))"
      ],
      "execution_count": 182,
      "outputs": [
        {
          "output_type": "stream",
          "text": [
            "mean   :  26.9672131147541\n",
            "median :  24\n"
          ],
          "name": "stdout"
        }
      ]
    },
    {
      "cell_type": "markdown",
      "metadata": {
        "id": "DpCBJCS_L_Xf"
      },
      "source": [
        "No. 2"
      ]
    },
    {
      "cell_type": "code",
      "metadata": {
        "colab": {
          "base_uri": "https://localhost:8080/",
          "height": 330
        },
        "id": "UAG9lmNJMAVl",
        "outputId": "ef794f7d-b6e3-4061-bf17-8ffe6a9ca7c2"
      },
      "source": [
        "import statistics\n",
        "import matplotlib.pyplot as plot\n",
        "from fractions import Fraction as F\n",
        "from decimal import Decimal as D\n",
        "\n",
        "age = [\n",
        "        19,19,19,20,20,21,21,21,21,21,\n",
        "        21,22,22,22,22,22,23,23,23,24,\n",
        "        24,24,25,26,26,26,28,28,29,31,\n",
        "        31,31,32,34,34,37,40,43,50,52,\n",
        "        57,19,20,21,22,22,22,22,23,24,\n",
        "        24,24,25,25,27,29,30,30,31,32,\n",
        "        39\n",
        "]\n",
        "\n",
        "plt.xlabel('Usia')\n",
        "plt.ylabel('Jumlah')\n",
        "bin_width = 10\n",
        "kelompok_interval = range(0,100 + bin_width,bin_width)\n",
        "plot.hist(age, kelompok_interval)"
      ],
      "execution_count": 164,
      "outputs": [
        {
          "output_type": "execute_result",
          "data": {
            "text/plain": [
              "(array([ 0.,  4., 40., 12.,  2.,  3.,  0.,  0.,  0.,  0.]),\n",
              " array([  0,  10,  20,  30,  40,  50,  60,  70,  80,  90, 100]),\n",
              " <a list of 10 Patch objects>)"
            ]
          },
          "metadata": {
            "tags": []
          },
          "execution_count": 164
        },
        {
          "output_type": "display_data",
          "data": {
            "image/png": "[encoded data removed]",
            "text/plain": [
              "<Figure size 432x288 with 1 Axes>"
            ]
          },
          "metadata": {
            "tags": [],
            "needs_background": "light"
          }
        }
      ]
    },
    {
      "cell_type": "code",
      "metadata": {
        "colab": {
          "base_uri": "https://localhost:8080/"
        },
        "id": "eowWl6sTHgMw",
        "outputId": "7f9285b0-6165-46df-9952-111ffd3d13b7"
      },
      "source": [
        "\n",
        "\n",
        "print(\"%.0f%%\" % (100 * 1/3))"
      ],
      "execution_count": 145,
      "outputs": [
        {
          "output_type": "stream",
          "text": [
            "33%\n"
          ],
          "name": "stdout"
        }
      ]
    },
    {
      "cell_type": "markdown",
      "metadata": {
        "id": "q5Jf4rPdEY_n"
      },
      "source": [
        "No. 4"
      ]
    },
    {
      "cell_type": "code",
      "metadata": {
        "colab": {
          "base_uri": "https://localhost:8080/"
        },
        "id": "m9SZ-flYWMTt",
        "outputId": "d742408f-1c27-47eb-d4ad-f48d82bcc028"
      },
      "source": [
        "import numpy\n",
        "\n",
        "pubtran = [\n",
        "        90,10,5,0,25,0,0,5,70,0,\n",
        "        0,70,90,50,0,0,0,0,0,0,\n",
        "        0,0,25,100,0,5,2,0,0,100,\n",
        "        0,0,5,0,30,0,0,0,0,0,\n",
        "        10,0,100,0,5,0,0,0,10,0,\n",
        "        0,25,25,55,15,0,100,30,50,0,\n",
        "        0,\n",
        "]\n",
        "\n",
        "x = numpy.std(pubtran)\n",
        "print(x)"
      ],
      "execution_count": 184,
      "outputs": [
        {
          "output_type": "stream",
          "text": [
            "31.07095848483521\n"
          ],
          "name": "stdout"
        }
      ]
    },
    {
      "cell_type": "code",
      "metadata": {
        "id": "GrAjzpnSEa7_"
      },
      "source": [
        "import numpy as np\n",
        "import pandas as pd\n",
        "from matplotlib import pyplot as plt\n",
        "# from sklearn.linear_model import LinearRegressiondf \n",
        "from sklearn.linear_model import LinearRegression\n",
        "pd.DataFrame([\n",
        "              [151,63],[174,81],[138,56],[186,91],\n",
        "              [128,47],[136,57],[179,76],[163,72],\n",
        "              [152,62],[131,48]\n",
        "            ])\n",
        "\n",
        "df.columns = ['x', 'y']\n",
        "x_train = df['x'].values[:,np.newaxis]\n",
        "y_train = df['y'].valueslm = LinearRegression()\n",
        "lm.fit(x_train,y_train) \n",
        "\n",
        "print('Coefficient : ' + str(lm.coef_))\n",
        "print('Intercept : ' + str(lm.intercept_))\n",
        "x_test = [[170],[171]] \n",
        "lm.predict(x_test) \n",
        "print(p)\n",
        "\n",
        "pb = lm.predict(x_train)\n",
        "dfc = pd.DataFrame({'x': df['x'],'y':pb})\n",
        "plt.scatter(df['x'],df['y'])\n",
        "plt.plot(dfc['x'],dfc['y'],color='red',linewidth=1)\n",
        "plt.xlabel('Tinggi dalam cm')\n",
        "plt.ylabel('Berat dalam Kg')\n",
        "plt.show()\n"
      ],
      "execution_count": null,
      "outputs": []
    },
    {
      "cell_type": "code",
      "metadata": {
        "colab": {
          "base_uri": "https://localhost:8080/",
          "height": 347
        },
        "id": "Px0Jpkj-JfTh",
        "outputId": "42280ce1-06c5-426c-b564-424e8c0f7512"
      },
      "source": [
        "import numpy as np\n",
        "import pandas as pd\n",
        "from matplotlib import pyplot as plt\n",
        "from sklearn.linear_model import LinearRegression\n",
        "from sklearn.metrics import mean_squared_error\n",
        "from sklearn import linear_model\n",
        "df = pd.DataFrame([\n",
        "                    [151,63],[174,81],[138,56],[186,91],\n",
        "                    [128,47],[136,57],[179,76],[163,72],\n",
        "                    [152,62],[131,48]\n",
        "                  ])\n",
        "\n",
        "df.columns = ['x', 'y']\n",
        "x_train = df['x'].values[:, np.newaxis]\n",
        "y_train = df['y'].values\n",
        "# lm = LinearRegression()\n",
        "lm.fit(x_train, y_train)\n",
        "\n",
        "print('Coefficient : ' + str(lm.coef_))\n",
        "print('Intercept : ' + str(lm.intercept_))\n",
        "x_test = [[170],[171]] \n",
        "p = lm.predict(x_tes)\n",
        "print(p)\n",
        "print(\"\")\n",
        "\n",
        "\n",
        "pb = lm.predict(x_train)\n",
        "dfc = pd.DataFrame({'x': df['x'],'y':pb})\n",
        "plt.scatter(df['x'],df['y'])\n",
        "plt.plot(dfc['x'],dfc['y'],color='red',linewidth=1)\n",
        "plt.xlabel('Tinggi dalam cm')\n",
        "plt.ylabel('Berat dalam Kg')\n",
        "plt.show()"
      ],
      "execution_count": 116,
      "outputs": [
        {
          "output_type": "stream",
          "text": [
            "Coefficient : [0.67461045]\n",
            "Intercept : -38.45508707607701\n",
            "[-11.47066911   8.76764436]\n",
            "\n"
          ],
          "name": "stdout"
        },
        {
          "output_type": "display_data",
          "data": {
            "image/png": "[encoded data removed]",
            "text/plain": [
              "<Figure size 432x288 with 1 Axes>"
            ]
          },
          "metadata": {
            "tags": [],
            "needs_background": "light"
          }
        }
      ]
    }
  ]
}